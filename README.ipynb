{
 "cells": [
  {
   "cell_type": "markdown",
   "metadata": {},
   "source": [
    "# `python-mhs5200`\n",
    "\n",
    "Python module for controlling inexpensive MHS5200 signal generators.\n",
    "\n",
    "The MHS5200 are an inexpensive family of DDS signal generators that have 16 arbitrary wave functions. However, the software is for Windows and not especially good (giant Labview compiled program with lots of issues).\n",
    "\n",
    "Developed using the [KKmoon High Precision Digital DDS Dual-channel Signal Source Generator Arbitrary Waveform Frequency Meter 200MSa/s 25MHz.](http://www.amznly.com/3nz)."
   ]
  },
  {
   "cell_type": "markdown",
   "metadata": {},
   "source": [
    "## Installation\n",
    "\n",
    "```\n",
    "pip install git+https://github.com/jed-frey/python_mhs5200.git#egg=mhs5200\n",
    "```"
   ]
  },
  {
   "cell_type": "markdown",
   "metadata": {},
   "source": [
    "## Useage Examples:"
   ]
  },
  {
   "cell_type": "code",
   "execution_count": 1,
   "metadata": {},
   "outputs": [],
   "source": [
    "from mhs5200 import MHS5200\n",
    "from mhs5200.enums import WAVE\n",
    "signal_gen = MHS5200(port=\"/dev/ttyUSB0\")"
   ]
  },
  {
   "cell_type": "markdown",
   "metadata": {},
   "source": [
    "### Signal Generator Object:"
   ]
  },
  {
   "cell_type": "code",
   "execution_count": 2,
   "metadata": {},
   "outputs": [
    {
     "name": "stdout",
     "output_type": "stream",
     "text": [
      "cfg: {'port': '/dev/ttyUSB0', 'baudrate': 57600, 'xonxoff': False, 'rtscts': False, 'dsrdtr': False, 'timeout': 0.5, 'write_timeout': 0.5}\n",
      "chan1: 1\n",
      "chan2: 2\n",
      "channels: [Channel<1, 20.0V@1000.0Hz>, Channel<2, 10.0V@0.5Hz>]\n",
      "load: <bound method MHS5200.load of <mhs5200.mhs5200.MHS5200 object at 0x7fbde8341f70>>\n",
      "model: 5225A5040000\n",
      "off: <bound method MHS5200.off of <mhs5200.mhs5200.MHS5200 object at 0x7fbde8341f70>>\n",
      "on: <bound method MHS5200.on of <mhs5200.mhs5200.MHS5200 object at 0x7fbde8341f70>>\n",
      "save: <bound method MHS5200.save of <mhs5200.mhs5200.MHS5200 object at 0x7fbde8341f70>>\n",
      "send: <bound method MHS5200.send of <mhs5200.mhs5200.MHS5200 object at 0x7fbde8341f70>>\n",
      "serial: Serial<id=0x7fbde8341a30, open=True>(port='/dev/ttyUSB0', baudrate=57600, bytesize=8, parity='N', stopbits=1, timeout=0.5, xonxoff=False, rtscts=False, dsrdtr=False)\n"
     ]
    }
   ],
   "source": [
    " for key in dir(signal_gen):\n",
    "    if key.startswith(\"_\"):\n",
    "        continue\n",
    "    value = getattr(signal_gen, key)\n",
    "    print(f\"{key}: {value}\")"
   ]
  },
  {
   "cell_type": "markdown",
   "metadata": {},
   "source": [
    "Disable Generator Output"
   ]
  },
  {
   "cell_type": "code",
   "execution_count": 3,
   "metadata": {},
   "outputs": [],
   "source": [
    "signal_gen.off()"
   ]
  },
  {
   "cell_type": "markdown",
   "metadata": {},
   "source": [
    "Enable Generator Output"
   ]
  },
  {
   "cell_type": "code",
   "execution_count": 4,
   "metadata": {},
   "outputs": [],
   "source": [
    "signal_gen.on()"
   ]
  },
  {
   "cell_type": "markdown",
   "metadata": {},
   "source": [
    "Save settings to a memory slot."
   ]
  },
  {
   "cell_type": "code",
   "execution_count": 5,
   "metadata": {},
   "outputs": [],
   "source": [
    "signal_gen.save(1)"
   ]
  },
  {
   "cell_type": "markdown",
   "metadata": {},
   "source": [
    "Load settings from a memory slot."
   ]
  },
  {
   "cell_type": "code",
   "execution_count": 6,
   "metadata": {},
   "outputs": [],
   "source": [
    "signal_gen.load(1)"
   ]
  },
  {
   "cell_type": "markdown",
   "metadata": {},
   "source": [
    "Save default settings for power on."
   ]
  },
  {
   "cell_type": "code",
   "execution_count": 7,
   "metadata": {},
   "outputs": [],
   "source": [
    "signal_gen.save(0)\n",
    "signal_gen.save()"
   ]
  },
  {
   "cell_type": "markdown",
   "metadata": {},
   "source": [
    "### Channels:"
   ]
  },
  {
   "cell_type": "code",
   "execution_count": 8,
   "metadata": {},
   "outputs": [
    {
     "data": {
      "text/plain": [
       "True"
      ]
     },
     "execution_count": 8,
     "metadata": {},
     "output_type": "execute_result"
    }
   ],
   "source": [
    "signal_gen.chan1 == signal_gen.channels[0]"
   ]
  },
  {
   "cell_type": "code",
   "execution_count": 9,
   "metadata": {},
   "outputs": [
    {
     "data": {
      "text/plain": [
       "True"
      ]
     },
     "execution_count": 9,
     "metadata": {},
     "output_type": "execute_result"
    }
   ],
   "source": [
    "signal_gen.chan2 == signal_gen.channels[1]"
   ]
  },
  {
   "cell_type": "code",
   "execution_count": 10,
   "metadata": {},
   "outputs": [],
   "source": [
    "chan1 = signal_gen.channels[0]\n",
    "\n",
    "chan1.frequency = 1 # Hz\n",
    "chan1.amplitude = 10 # V-pp\n",
    "chan1.offset = 0 # V\n",
    "chan1.wave = WAVE.SQUARE"
   ]
  },
  {
   "cell_type": "markdown",
   "metadata": {},
   "source": [
    "Read Channels"
   ]
  },
  {
   "cell_type": "code",
   "execution_count": 11,
   "metadata": {},
   "outputs": [
    {
     "data": {
      "text/plain": [
       "1.0"
      ]
     },
     "execution_count": 11,
     "metadata": {},
     "output_type": "execute_result"
    }
   ],
   "source": [
    "chan1.frequency"
   ]
  },
  {
   "cell_type": "code",
   "execution_count": 12,
   "metadata": {},
   "outputs": [
    {
     "data": {
      "text/plain": [
       "10.0"
      ]
     },
     "execution_count": 12,
     "metadata": {},
     "output_type": "execute_result"
    }
   ],
   "source": [
    "chan1.amplitude"
   ]
  },
  {
   "cell_type": "code",
   "execution_count": 13,
   "metadata": {},
   "outputs": [
    {
     "data": {
      "text/plain": [
       "0"
      ]
     },
     "execution_count": 13,
     "metadata": {},
     "output_type": "execute_result"
    }
   ],
   "source": [
    "chan1.offset"
   ]
  },
  {
   "cell_type": "markdown",
   "metadata": {},
   "source": [
    "### Set All Channels\n",
    "\n",
    "For machine lab setup/teardown/make sure oscilloscope is the broken one."
   ]
  },
  {
   "cell_type": "code",
   "execution_count": 14,
   "metadata": {},
   "outputs": [],
   "source": [
    "for channel in signal_gen.channels:\n",
    "    channel.frequency = 0.5\n",
    "    channel.amplitude = 10\n",
    "    channel.offset=channel.amplitude/2\n",
    "    channel.wave = WAVE.SQUARE"
   ]
  },
  {
   "cell_type": "markdown",
   "metadata": {},
   "source": [
    "### Print All Channels & Attributes"
   ]
  },
  {
   "cell_type": "code",
   "execution_count": 15,
   "metadata": {},
   "outputs": [
    {
     "name": "stdout",
     "output_type": "stream",
     "text": [
      "Channel: 1\n",
      "Channel: 2\n",
      "amplitude: 10.0\n",
      "atten: 1\n",
      "dds: <mhs5200.mhs5200.MHS5200 object at 0x7fbde8341f70>\n",
      "duty_cycle: 50.0\n",
      "frequency: 0.5\n",
      "num: 2\n",
      "offset: 5\n",
      "phase: 0\n",
      "wave: 1\n"
     ]
    }
   ],
   "source": [
    "for channel in signal_gen.channels:\n",
    "    print(f\"Channel: {channel}\")\n",
    "for key in dir(channel):\n",
    "        if key.startswith(\"_\"):\n",
    "            continue\n",
    "        value = getattr(channel, key)\n",
    "        print(f\"{key}: {value}\")"
   ]
  },
  {
   "cell_type": "code",
   "execution_count": 16,
   "metadata": {},
   "outputs": [],
   "source": [
    "signal_gen.off()"
   ]
  },
  {
   "cell_type": "markdown",
   "metadata": {},
   "source": [
    "### WAVE enum types:\n",
    "\n",
    "Supported waves"
   ]
  },
  {
   "cell_type": "code",
   "execution_count": 17,
   "metadata": {},
   "outputs": [
    {
     "data": {
      "text/plain": [
       "[<WAVE.SINE: 0>,\n",
       " <WAVE.SQUARE: 1>,\n",
       " <WAVE.TRI: 2>,\n",
       " <WAVE.UP: 3>,\n",
       " <WAVE.DOWN: 4>,\n",
       " <WAVE.ARB0: 100>,\n",
       " <WAVE.ARB1: 101>,\n",
       " <WAVE.ARB2: 102>,\n",
       " <WAVE.ARB3: 103>,\n",
       " <WAVE.ARB4: 104>,\n",
       " <WAVE.ARB5: 105>,\n",
       " <WAVE.ARB6: 106>,\n",
       " <WAVE.ARB7: 107>,\n",
       " <WAVE.ARB8: 108>,\n",
       " <WAVE.ARB9: 109>,\n",
       " <WAVE.ARB10: 110>,\n",
       " <WAVE.ARB11: 111>,\n",
       " <WAVE.ARB12: 112>,\n",
       " <WAVE.ARB13: 113>,\n",
       " <WAVE.ARB14: 114>,\n",
       " <WAVE.ARB15: 115>]"
      ]
     },
     "execution_count": 17,
     "metadata": {},
     "output_type": "execute_result"
    }
   ],
   "source": [
    "list(WAVE)"
   ]
  },
  {
   "cell_type": "markdown",
   "metadata": {},
   "source": [
    "# Additional Links\n",
    "\n",
    "Credit for all of the hard work goes to user `wd5gnr` from [EEV Blog](https://www.eevblog.com/) for reverse engineering the protcol and documenting it here: [MHS5200A Protocol](https://docs.google.com/document/d/1HbLQ4u87RJkD3Ktyw7k9U7Zh5BPNzbrhMlszNGdXiiY/edit)\n",
    "\n",
    "- [MHS-5200A DDS Signal Generator](http://land-boards.com/blwiki/index.php?title=MHS-5200A_DDS_Signal_Generator)\n",
    "\n",
    "- [MHS-5200A Serial Protocol Reverse Engineered](https://www.eevblog.com/forum/testgear/mhs-5200a-serial-protocol-reverse-engineered/)\n",
    "\n",
    "- [MHS-5200A function generator teardown / review / reverse engineering](https://www.eevblog.com/forum/testgear/mhs-5200a-function-generator-teardown-review-reverse-engineering/)\n",
    "\n",
    "# TODO\n",
    "\n",
    "- Integrate with [python-ivi](https://github.com/python-ivi/python-ivi).\n",
    "- Test on another MHS-5200 device.\n",
    "- Arbitrary waveforms.\n",
    "- External measurements.\n",
    "- Better documentation."
   ]
  }
 ],
 "metadata": {
  "kernelspec": {
   "display_name": "Python 3",
   "language": "python",
   "name": "python3"
  },
  "language_info": {
   "codemirror_mode": {
    "name": "ipython",
    "version": 3
   },
   "file_extension": ".py",
   "mimetype": "text/x-python",
   "name": "python",
   "nbconvert_exporter": "python",
   "pygments_lexer": "ipython3",
   "version": "3.8.0"
  }
 },
 "nbformat": 4,
 "nbformat_minor": 2
}
