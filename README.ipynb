{
 "cells": [
  {
   "cell_type": "markdown",
   "metadata": {},
   "source": [
    "# `python-mhs5200`\n",
    "\n",
    "Python module for controlling inexpensive MHS5200 signal generators.\n",
    "\n",
    "The MHS5200 are an family of DDS signal generators that have 16 arbitrary wave functions. However, the software is for Windows and not especially good (giant Labview compiled program with lots of issues).\n",
    "\n",
    "Developed using the [KKmoon High Precision Digital DDS Dual-channel Signal Source Generator Arbitrary Waveform Frequency Meter 200MSa/s 25MHz.](http://www.amznly.com/3nz)."
   ]
  },
  {
   "cell_type": "markdown",
   "metadata": {},
   "source": [
    "## Installation\n",
    "\n",
    "```\n",
    "pip install git+https://github.com/jed-frey/python_mhs5200.git#egg=mhs5200\n",
    "```"
   ]
  },
  {
   "cell_type": "markdown",
   "metadata": {},
   "source": [
    "## Useage Examples:"
   ]
  },
  {
   "cell_type": "code",
   "execution_count": 1,
   "metadata": {},
   "outputs": [],
   "source": [
    "from mhs5200 import MHS5200\n",
    "import mhs5200.enums as WAVE\n",
    "signal_gen = MHS5200(port=\"/dev/ttyUSB0\")"
   ]
  },
  {
   "cell_type": "markdown",
   "metadata": {},
   "source": [
    "Disable Generator Output"
   ]
  },
  {
   "cell_type": "code",
   "execution_count": 2,
   "metadata": {},
   "outputs": [],
   "source": [
    "signal_gen.off()"
   ]
  },
  {
   "cell_type": "markdown",
   "metadata": {},
   "source": [
    "Enable Generator Output"
   ]
  },
  {
   "cell_type": "code",
   "execution_count": 3,
   "metadata": {},
   "outputs": [],
   "source": [
    "signal_gen.on()"
   ]
  },
  {
   "cell_type": "markdown",
   "metadata": {},
   "source": [
    "Save settings to a memory slot."
   ]
  },
  {
   "cell_type": "code",
   "execution_count": 4,
   "metadata": {},
   "outputs": [],
   "source": [
    "signal_gen.save(1)"
   ]
  },
  {
   "cell_type": "markdown",
   "metadata": {},
   "source": [
    "Load settings from a memory slot."
   ]
  },
  {
   "cell_type": "code",
   "execution_count": 5,
   "metadata": {},
   "outputs": [],
   "source": [
    "signal_gen.load(1)"
   ]
  },
  {
   "cell_type": "markdown",
   "metadata": {},
   "source": [
    "### Channels:"
   ]
  },
  {
   "cell_type": "code",
   "execution_count": 6,
   "metadata": {},
   "outputs": [
    {
     "data": {
      "text/plain": [
       "True"
      ]
     },
     "execution_count": 6,
     "metadata": {},
     "output_type": "execute_result"
    }
   ],
   "source": [
    "signal_gen.chan1 == signal_gen.channels[0]"
   ]
  },
  {
   "cell_type": "code",
   "execution_count": 7,
   "metadata": {},
   "outputs": [
    {
     "data": {
      "text/plain": [
       "True"
      ]
     },
     "execution_count": 7,
     "metadata": {},
     "output_type": "execute_result"
    }
   ],
   "source": [
    "signal_gen.chan2 == signal_gen.channels[1]"
   ]
  },
  {
   "cell_type": "code",
   "execution_count": 8,
   "metadata": {},
   "outputs": [],
   "source": [
    "chan1 = signal_gen.channels[0]\n",
    "\n",
    "chan1.frequency = 1 # Hz\n",
    "chan1.amplitude = 10 # V-pp\n",
    "chan1.offset = 0 # V\n",
    "chan1.wave = WAVE.SINE\n",
    "\n",
    "chan2 = signal_gen.chan2\n",
    "chan2.frequency = 2 # Hz\n",
    "chan2.amplitude = 5 # V-pp\n",
    "chan2.offset = 2.5 # V\n",
    "chan2.wave = WAVE.SQUARE"
   ]
  },
  {
   "cell_type": "markdown",
   "metadata": {},
   "source": [
    "Save default settings for power on. The above code block sets the power on settings."
   ]
  },
  {
   "cell_type": "code",
   "execution_count": 9,
   "metadata": {},
   "outputs": [],
   "source": [
    "signal_gen.save(0)\n",
    "signal_gen.save()"
   ]
  },
  {
   "cell_type": "markdown",
   "metadata": {},
   "source": [
    "Read Channels"
   ]
  },
  {
   "cell_type": "code",
   "execution_count": 10,
   "metadata": {},
   "outputs": [
    {
     "name": "stdout",
     "output_type": "stream",
     "text": [
      "1.0Hz, 10.0V\n",
      "2.0Hz, 5.0V\n"
     ]
    }
   ],
   "source": [
    "for channel in signal_gen.channels:\n",
    "    print(f\"{channel.frequency}Hz, {channel.amplitude}V\")"
   ]
  },
  {
   "cell_type": "code",
   "execution_count": 11,
   "metadata": {},
   "outputs": [],
   "source": [
    "signal_gen.off()"
   ]
  },
  {
   "cell_type": "markdown",
   "metadata": {},
   "source": [
    "# Twinkle Twinkle Little Star"
   ]
  },
  {
   "cell_type": "code",
   "execution_count": 12,
   "metadata": {},
   "outputs": [],
   "source": [
    "from mhs5200.utils import songs, play_song"
   ]
  },
  {
   "cell_type": "code",
   "execution_count": 13,
   "metadata": {},
   "outputs": [],
   "source": [
    "play_song(signal_gen, songs[\"twinkle\"])"
   ]
  },
  {
   "cell_type": "markdown",
   "metadata": {},
   "source": [
    "# Tests\n",
    "\n",
    "Multiple tests are included, TODO close loop with oscilloscope."
   ]
  },
  {
   "cell_type": "code",
   "execution_count": 14,
   "metadata": {},
   "outputs": [
    {
     "name": "stdout",
     "output_type": "stream",
     "text": [
      "\u001b[1m============================= test session starts ==============================\u001b[0m\r\n",
      "platform linux -- Python 3.8.0, pytest-5.3.2, py-1.8.1, pluggy-0.13.1\r\n",
      "rootdir: /projects/OSH-HIL/components/python_mhs5200, inifile: setup.cfg\r\n",
      "plugins: metadata-1.8.0, csv-2.0.2, html-2.0.1\r\n",
      "collected 72 items                                                             \u001b[0m\r\n",
      "\r\n",
      "tests/test_amplitude.py \u001b[32m.\u001b[0m\u001b[32m.\u001b[0m\u001b[32m.\u001b[0m\u001b[32m.\u001b[0m\u001b[32m.\u001b[0m\u001b[32m.\u001b[0m\u001b[32m.\u001b[0m\u001b[32m.\u001b[0m\u001b[32m.\u001b[0m\u001b[32m.\u001b[0m\u001b[32m.\u001b[0m\u001b[32m.\u001b[0m\u001b[32m.\u001b[0m\u001b[32m.\u001b[0m\u001b[32m.\u001b[0m\u001b[32m.\u001b[0m\u001b[32m.\u001b[0m\u001b[32m.\u001b[0m\u001b[32m.\u001b[0m\u001b[32m.\u001b[0m\u001b[32m.\u001b[0m\u001b[32m.\u001b[0m\u001b[32m.\u001b[0m\u001b[32m.\u001b[0m\u001b[32m.\u001b[0m\u001b[32m.\u001b[0m\u001b[32m.\u001b[0m\u001b[32m.\u001b[0m\u001b[32m.\u001b[0m\u001b[32m.\u001b[0m\u001b[32m.\u001b[0m\u001b[32m.\u001b[0m\u001b[32m.\u001b[0m\u001b[32m.\u001b[0m\u001b[32m.\u001b[0m\u001b[32m.\u001b[0m\u001b[32m.\u001b[0m\u001b[32m.\u001b[0m\u001b[32m.\u001b[0m\u001b[32m.\u001b[0m\u001b[32m.\u001b[0m\u001b[32m.\u001b[0m\u001b[32m.\u001b[0m\u001b[32m.\u001b[0m\u001b[32m.\u001b[0m\u001b[32m.\u001b[0m\u001b[32m.\u001b[0m\u001b[32m.\u001b[0m\u001b[32m [ 66%]\r\n",
      "\u001b[0m\u001b[32m                                                                         [ 66%]\u001b[0m\r\n",
      "tests/test_both_channels.py \u001b[32m.\u001b[0m\u001b[32m                                            [ 68%]\u001b[0m\r\n",
      "tests/test_frequency.py \u001b[32m.\u001b[0m\u001b[32m.\u001b[0m\u001b[32m.\u001b[0m\u001b[32m.\u001b[0m\u001b[32m.\u001b[0m\u001b[32m                                            [ 75%]\u001b[0m\r\n",
      "tests/test_musical.py \u001b[32m.\u001b[0m\u001b[32m.\u001b[0m\u001b[32m.\u001b[0m\u001b[32m.\u001b[0m\u001b[32m.\u001b[0m\u001b[32m.\u001b[0m\u001b[32m.\u001b[0m\u001b[32m.\u001b[0m\u001b[32m.\u001b[0m\u001b[32m.\u001b[0m\u001b[32m.\u001b[0m\u001b[32m.\u001b[0m\u001b[32m.\u001b[0m\u001b[32m.\u001b[0m\u001b[32m.\u001b[0m\u001b[32m.\u001b[0m\u001b[32m                                   [ 97%]\u001b[0m\r\n",
      "tests/test_speakertest.py \u001b[32m.\u001b[0m\u001b[32m.\u001b[0m\u001b[32m                                             [100%]\u001b[0m\r\n",
      "\r\n",
      "==================================== PASSES ====================================\r\n",
      "----------------- CSV report: test-artifacts/test_artifact.csv -----------------\r\n",
      "- generated html file: file:///projects/OSH-HIL/components/python_mhs5200/test-artifacts/test_artifact.html -\r\n",
      "=========================== short test summary info ============================\r\n",
      "PASSED tests/test_amplitude.py::test_amp[100-0.2-0]\r\n",
      "PASSED tests/test_amplitude.py::test_amp[100-0.2-1]\r\n",
      "PASSED tests/test_amplitude.py::test_amp[100-1-0]\r\n",
      "PASSED tests/test_amplitude.py::test_amp[100-1-1]\r\n",
      "PASSED tests/test_amplitude.py::test_amp[100-2-0]\r\n",
      "PASSED tests/test_amplitude.py::test_amp[100-2-1]\r\n",
      "PASSED tests/test_amplitude.py::test_amp[100-5-0]\r\n",
      "PASSED tests/test_amplitude.py::test_amp[100-5-1]\r\n",
      "PASSED tests/test_amplitude.py::test_amp[100-10-0]\r\n",
      "PASSED tests/test_amplitude.py::test_amp[100-10-1]\r\n",
      "PASSED tests/test_amplitude.py::test_amp[100-20-0]\r\n",
      "PASSED tests/test_amplitude.py::test_amp[100-20-1]\r\n",
      "PASSED tests/test_amplitude.py::test_amp[200-0.2-0]\r\n",
      "PASSED tests/test_amplitude.py::test_amp[200-0.2-1]\r\n",
      "PASSED tests/test_amplitude.py::test_amp[200-1-0]\r\n",
      "PASSED tests/test_amplitude.py::test_amp[200-1-1]\r\n",
      "PASSED tests/test_amplitude.py::test_amp[200-2-0]\r\n",
      "PASSED tests/test_amplitude.py::test_amp[200-2-1]\r\n",
      "PASSED tests/test_amplitude.py::test_amp[200-5-0]\r\n",
      "PASSED tests/test_amplitude.py::test_amp[200-5-1]\r\n",
      "PASSED tests/test_amplitude.py::test_amp[200-10-0]\r\n",
      "PASSED tests/test_amplitude.py::test_amp[200-10-1]\r\n",
      "PASSED tests/test_amplitude.py::test_amp[200-20-0]\r\n",
      "PASSED tests/test_amplitude.py::test_amp[200-20-1]\r\n",
      "PASSED tests/test_amplitude.py::test_amp[500-0.2-0]\r\n",
      "PASSED tests/test_amplitude.py::test_amp[500-0.2-1]\r\n",
      "PASSED tests/test_amplitude.py::test_amp[500-1-0]\r\n",
      "PASSED tests/test_amplitude.py::test_amp[500-1-1]\r\n",
      "PASSED tests/test_amplitude.py::test_amp[500-2-0]\r\n",
      "PASSED tests/test_amplitude.py::test_amp[500-2-1]\r\n",
      "PASSED tests/test_amplitude.py::test_amp[500-5-0]\r\n",
      "PASSED tests/test_amplitude.py::test_amp[500-5-1]\r\n",
      "PASSED tests/test_amplitude.py::test_amp[500-10-0]\r\n",
      "PASSED tests/test_amplitude.py::test_amp[500-10-1]\r\n",
      "PASSED tests/test_amplitude.py::test_amp[500-20-0]\r\n",
      "PASSED tests/test_amplitude.py::test_amp[500-20-1]\r\n",
      "PASSED tests/test_amplitude.py::test_amp[1000-0.2-0]\r\n",
      "PASSED tests/test_amplitude.py::test_amp[1000-0.2-1]\r\n",
      "PASSED tests/test_amplitude.py::test_amp[1000-1-0]\r\n",
      "PASSED tests/test_amplitude.py::test_amp[1000-1-1]\r\n",
      "PASSED tests/test_amplitude.py::test_amp[1000-2-0]\r\n",
      "PASSED tests/test_amplitude.py::test_amp[1000-2-1]\r\n",
      "PASSED tests/test_amplitude.py::test_amp[1000-5-0]\r\n",
      "PASSED tests/test_amplitude.py::test_amp[1000-5-1]\r\n",
      "PASSED tests/test_amplitude.py::test_amp[1000-10-0]\r\n",
      "PASSED tests/test_amplitude.py::test_amp[1000-10-1]\r\n",
      "PASSED tests/test_amplitude.py::test_amp[1000-20-0]\r\n",
      "PASSED tests/test_amplitude.py::test_amp[1000-20-1]\r\n",
      "PASSED tests/test_both_channels.py::test_both_freq_01\r\n",
      "PASSED tests/test_frequency.py::test_freq_01\r\n",
      "PASSED tests/test_frequency.py::test_freq_10\r\n",
      "PASSED tests/test_frequency.py::test_freq_100\r\n",
      "PASSED tests/test_frequency.py::test_freq_1MHz\r\n",
      "PASSED tests/test_frequency.py::test_freq_1kHz\r\n",
      "PASSED tests/test_musical.py::test_get_freq\r\n",
      "PASSED tests/test_musical.py::test_scale\r\n",
      "PASSED tests/test_musical.py::test_scale_parametrized[C]\r\n",
      "PASSED tests/test_musical.py::test_scale_parametrized[C#]\r\n",
      "PASSED tests/test_musical.py::test_scale_parametrized[D]\r\n",
      "PASSED tests/test_musical.py::test_scale_parametrized[D#]\r\n",
      "PASSED tests/test_musical.py::test_scale_parametrized[E]\r\n",
      "PASSED tests/test_musical.py::test_scale_parametrized[F]\r\n",
      "PASSED tests/test_musical.py::test_scale_parametrized[F#]\r\n",
      "PASSED tests/test_musical.py::test_scale_parametrized[G]\r\n",
      "PASSED tests/test_musical.py::test_scale_parametrized[G#]\r\n",
      "PASSED tests/test_musical.py::test_scale_parametrized[A]\r\n",
      "PASSED tests/test_musical.py::test_scale_parametrized[A#]\r\n",
      "PASSED tests/test_musical.py::test_scale_parametrized[B]\r\n",
      "PASSED tests/test_musical.py::test_songs[CCGGAAGFFEEDDCGGFFEEDGGFFEEDCCGGAAGFFEEDDC]\r\n",
      "PASSED tests/test_musical.py::test_songs[CDFFFFFFFFCDFFFFFFFFCDFFFFFFFFFFE]\r\n",
      "PASSED tests/test_speakertest.py::test_both_square\r\n",
      "PASSED tests/test_speakertest.py::test_both_sine\r\n",
      "\u001b[32m======================== \u001b[32m\u001b[1m72 passed\u001b[0m\u001b[32m in 121.86s (0:02:01)\u001b[0m\u001b[32m ========================\u001b[0m\r\n"
     ]
    }
   ],
   "source": [
    "!pytest --port=/dev/ttyUSB0"
   ]
  },
  {
   "cell_type": "markdown",
   "metadata": {},
   "source": [
    "# Additional Links\n",
    "\n",
    "Credit for all of the hard work goes to user `wd5gnr` from [EEV Blog](https://www.eevblog.com/) for reverse engineering the protcol and documenting it here: [MHS5200A Protocol](https://docs.google.com/document/d/1HbLQ4u87RJkD3Ktyw7k9U7Zh5BPNzbrhMlszNGdXiiY/edit)\n",
    "\n",
    "- [MHS-5200A DDS Signal Generator](http://land-boards.com/blwiki/index.php?title=MHS-5200A_DDS_Signal_Generator)\n",
    "\n",
    "- [MHS-5200A Serial Protocol Reverse Engineered](https://www.eevblog.com/forum/testgear/mhs-5200a-serial-protocol-reverse-engineered/)\n",
    "\n",
    "- [MHS-5200A function generator teardown / review / reverse engineering](https://www.eevblog.com/forum/testgear/mhs-5200a-function-generator-teardown-review-reverse-engineering/)\n",
    "\n",
    "# TODO\n",
    "\n",
    "- Integrate / test against [python-ivi](https://github.com/python-ivi/python-ivi) &/| [InstrumentKit](https://github.com/Galvant/InstrumentKit)\n",
    "- Test on another MHS-5200 device.\n",
    "- Better crossplatfor testing.\n",
    "- Arbitrary waveforms.\n",
    "- External measurements.\n",
    "- Better documentation.\n",
    "- Closed loop testing."
   ]
  }
 ],
 "metadata": {
  "kernelspec": {
   "display_name": "Python 3",
   "language": "python",
   "name": "python3"
  },
  "language_info": {
   "codemirror_mode": {
    "name": "ipython",
    "version": 3
   },
   "file_extension": ".py",
   "mimetype": "text/x-python",
   "name": "python",
   "nbconvert_exporter": "python",
   "pygments_lexer": "ipython3",
   "version": "3.8.0"
  }
 },
 "nbformat": 4,
 "nbformat_minor": 2
}
