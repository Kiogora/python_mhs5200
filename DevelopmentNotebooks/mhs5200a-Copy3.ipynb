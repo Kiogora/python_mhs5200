{
 "cells": [
  {
   "cell_type": "code",
   "execution_count": 2,
   "metadata": {
    "collapsed": true
   },
   "outputs": [],
   "source": [
    "import serial"
   ]
  },
  {
   "cell_type": "code",
   "execution_count": 11,
   "metadata": {
    "collapsed": true
   },
   "outputs": [],
   "source": [
    "cmd_map = dict()\n",
    "cmd_map[\"frequency\"]=\"f\"\n",
    "cmd_map[\"wave\"]=\"w\"\n",
    "cmd_map[\"duty_cycle\"]=\"d\"\n",
    "cmd_map[\"offset\"]=\"o\"\n",
    "cmd_map[\"phase\"]=\"p\"\n",
    "cmd_map[\"atten\"]=\"y\"\n",
    "cmd_map[\"amplitude\"]=\"a\"\n",
    "cmd_map[\"on\"]=\"b\""
   ]
  },
  {
   "cell_type": "code",
   "execution_count": 12,
   "metadata": {
    "collapsed": true
   },
   "outputs": [],
   "source": [
    "class Channel(object):\n",
    "    def __init__(self, dds, num):\n",
    "        self.dds = dds\n",
    "        self.num = num\n",
    "\n",
    "    def __str__(self):\n",
    "        return \"{}\".format(self.num)\n",
    "    \n",
    "    def __repr__(self):\n",
    "        return \"Channel<{}>\".format(self.num)\n",
    "        \n",
    "    @property\n",
    "    def frequency(self):\n",
    "        return self.dds.get(self, \"frequency\")\n",
    "\n",
    "def getter_gen(parameter):\n",
    "    def getter_fcn(self):\n",
    "        cmd = cmd_map[parameter]\n",
    "        raw_value = self.dds._read(self, parameter)\n",
    "        value = raw_value.split(cmd)[1]\n",
    "        return int(value)\n",
    "        \n",
    "    return getter_fcn\n",
    "\n",
    "def setter_gen(parameter):\n",
    "    def setter_fcn(self, value):\n",
    "        return self.dds._set(self, parameter, value)\n",
    "        \n",
    "    return setter_fcn\n",
    "\n",
    "for attribute, _ in cmd_map.items():\n",
    "    setattr(Channel, \"_\"+attribute, property(getter_gen(attribute),\n",
    "                                             setter_gen(attribute)))"
   ]
  },
  {
   "cell_type": "code",
   "execution_count": 13,
   "metadata": {
    "collapsed": true
   },
   "outputs": [],
   "source": [
    "class MHS5200A(object):\n",
    "    def __init__(self, port=\"/dev/ttyUSB2\"):\n",
    "        cfg=dict()\n",
    "        cfg[\"port\"]=port\n",
    "        cfg[\"baudrate\"]=57600\n",
    "        cfg[\"xonxoff\"]=False        \n",
    "        cfg[\"timeout\"]=0.5\n",
    "        cfg[\"rtscts\"]=True\n",
    "        cfg[\"dsrdtr\"]=False\n",
    "        self.cfg = cfg\n",
    "        self.serial = serial.Serial(**cfg)\n",
    "        self.channels = list()\n",
    "        self.channels.append(Channel(self, 1))\n",
    "        \n",
    "    def send(self, msg=\"\", return_line = False):\n",
    "        self.serial.flushInput()\n",
    "        self.serial.flushOutput()\n",
    "        cmd_str = \":{}\\r\\n\".format(msg)\n",
    "        self.serial.write(cmd_str.encode())\n",
    "        if return_line:\n",
    "            data = self.serial.readline()\n",
    "            data_clean = data.decode().strip()\n",
    "            return data_clean\n",
    "        \n",
    "    def _read(self, channel, prop):\n",
    "        cmd_str = \"r{}{}\".format(channel, cmd_map[prop])\n",
    "        return self.send(cmd_str, return_line=True)\n",
    "    \n",
    "    def _set(self, channel, prop, value):\n",
    "        cmd_str = \"s{}{}{}\".format(channel, cmd_map[prop], value)\n",
    "        response = self.send(cmd_str, return_line=True)\n",
    "        assert(response==\"ok\")\n",
    "   \n",
    "    def init(self):\n",
    "        self.send(\":\")\n",
    "        self.send(\":r1c\")\n",
    "        self.send(\":r2c\")\n",
    "        \n",
    "    @property\n",
    "    def model(self):\n",
    "        return self.send(\"r0c\")\n",
    "\n",
    "sg = MHS5200A()\n",
    "sg.init()\n",
    "s = sg.serial\n",
    "chan1 = sg.channels[0]"
   ]
  },
  {
   "cell_type": "code",
   "execution_count": 15,
   "metadata": {},
   "outputs": [
    {
     "data": {
      "text/plain": [
       "120"
      ]
     },
     "execution_count": 15,
     "metadata": {},
     "output_type": "execute_result"
    }
   ],
   "source": [
    "chan1._offset"
   ]
  },
  {
   "cell_type": "code",
   "execution_count": 16,
   "metadata": {},
   "outputs": [
    {
     "data": {
      "text/plain": [
       "2000"
      ]
     },
     "execution_count": 16,
     "metadata": {},
     "output_type": "execute_result"
    }
   ],
   "source": [
    "chan1._amplitude"
   ]
  },
  {
   "cell_type": "code",
   "execution_count": 26,
   "metadata": {},
   "outputs": [
    {
     "name": "stdout",
     "output_type": "stream",
     "text": [
      "\n",
      "    @property\n",
      "    def amplitude(self):\n",
      "        raw_value = self._amplitude\n",
      "        return raw_value\n",
      "\n",
      "    @property\n",
      "    def wave(self):\n",
      "        raw_value = self._wave\n",
      "        return raw_value\n",
      "\n",
      "    @property\n",
      "    def phase(self):\n",
      "        raw_value = self._phase\n",
      "        return raw_value\n",
      "\n",
      "    @property\n",
      "    def offset(self):\n",
      "        raw_value = self._offset\n",
      "        return raw_value\n",
      "\n",
      "    @property\n",
      "    def duty_cycle(self):\n",
      "        raw_value = self._duty_cycle\n",
      "        return raw_value\n",
      "\n",
      "    @property\n",
      "    def frequency(self):\n",
      "        raw_value = self._frequency\n",
      "        return raw_value\n",
      "\n",
      "    @property\n",
      "    def on(self):\n",
      "        raw_value = self._on\n",
      "        return raw_value\n",
      "\n",
      "    @property\n",
      "    def atten(self):\n",
      "        raw_value = self._atten\n",
      "        return raw_value\n"
     ]
    }
   ],
   "source": [
    "for attribute, _ in cmd_map.items():\n",
    "    print(\"\"\"\n",
    "    @property\n",
    "    def {}(self):\n",
    "        raw_value = self._{}\n",
    "        return raw_value\"\"\".format(attribute, attribute))"
   ]
  },
  {
   "cell_type": "code",
   "execution_count": 27,
   "metadata": {
    "collapsed": true
   },
   "outputs": [],
   "source": [
    "class Channel(object):\n",
    "    def __init__(self, dds, num):\n",
    "        self.dds = dds\n",
    "        self.num = num\n",
    "        \n",
    "    @property\n",
    "    def frequency(self):\n",
    "        raw_value = self._frequency\n",
    "        return float(raw_value)/100\n",
    "        \n",
    "    @frequency.setter\n",
    "    def frequency(self, value):\n",
    "        raw_value = int(value*100)\n",
    "        self.dds._set(self, raw_value)\n",
    "        \n",
    "    @property\n",
    "    def wave(self):\n",
    "        raw_value = self._wave\n",
    "        return raw_value\n",
    "        \n",
    "    @property\n",
    "    def duty_cycle(self):\n",
    "        raw_value = self._duty_cycle\n",
    "        return raw_value\n",
    "    \n",
    "    @property\n",
    "    def offset(self):\n",
    "        raw_value = self._offset\n",
    "        return raw_value - 120\n",
    "    \n",
    "    @property\n",
    "    def phase(self):\n",
    "        raw_value = self._phase\n",
    "        return self._phase\n",
    "    \n",
    "    @property\n",
    "    def atten(self):\n",
    "        raw_value = self._atten\n",
    "        return raw_value   \n",
    "    \n",
    "    @property\n",
    "    def on(self):\n",
    "        raw_value = self._on\n",
    "        return raw_value\n",
    "    \n",
    "    @property\n",
    "    def amplitude(self):\n",
    "        raw_value = self._amplitude\n",
    "        return raw_value\n",
    "\n",
    "    def __str__(self):\n",
    "        return \"{}\".format(self.num)\n",
    "    \n",
    "    def __repr__(self):\n",
    "        return \"Channel<{}>\".format(self.num)\n",
    "        \n",
    "def getter_gen(parameter):\n",
    "    def getter_fcn(self):\n",
    "        cmd = cmd_map[parameter]\n",
    "        raw_value = self.dds._read(self, parameter)\n",
    "        value = raw_value.split(cmd)[1]\n",
    "        return int(value)\n",
    "        \n",
    "    return getter_fcn\n",
    "\n",
    "def setter_gen(parameter):\n",
    "    def setter_fcn(self, value):\n",
    "        return self.dds._set(self, parameter, value)\n",
    "        \n",
    "    return setter_fcn\n",
    "\n",
    "for attribute, _ in cmd_map.items():\n",
    "    setattr(Channel, \"_\"+attribute, property(getter_gen(attribute),\n",
    "                                             setter_gen(attribute)))"
   ]
  },
  {
   "cell_type": "code",
   "execution_count": 28,
   "metadata": {
    "collapsed": true
   },
   "outputs": [],
   "source": [
    "chan1 = Channel(sg, 1)"
   ]
  },
  {
   "cell_type": "code",
   "execution_count": 31,
   "metadata": {},
   "outputs": [
    {
     "data": {
      "text/plain": [
       "2000"
      ]
     },
     "execution_count": 31,
     "metadata": {},
     "output_type": "execute_result"
    }
   ],
   "source": [
    "chan1.amplitude"
   ]
  },
  {
   "cell_type": "code",
   "execution_count": 33,
   "metadata": {},
   "outputs": [
    {
     "data": {
      "text/plain": [
       "':r0e0000000000'"
      ]
     },
     "execution_count": 33,
     "metadata": {},
     "output_type": "execute_result"
    }
   ],
   "source": [
    "sg.send(\"r0e\", return_line=True)"
   ]
  },
  {
   "cell_type": "code",
   "execution_count": 34,
   "metadata": {},
   "outputs": [
    {
     "data": {
      "text/plain": [
       "':r0g'"
      ]
     },
     "execution_count": 34,
     "metadata": {},
     "output_type": "execute_result"
    }
   ],
   "source": [
    "sg.send(\"r1g\", return_line=True)"
   ]
  },
  {
   "cell_type": "code",
   "execution_count": 35,
   "metadata": {},
   "outputs": [
    {
     "data": {
      "text/plain": [
       "':r3f0000100000'"
      ]
     },
     "execution_count": 35,
     "metadata": {},
     "output_type": "execute_result"
    }
   ],
   "source": [
    "sg.send(\"r3f\", return_line=True)"
   ]
  },
  {
   "cell_type": "code",
   "execution_count": 36,
   "metadata": {},
   "outputs": [
    {
     "data": {
      "text/plain": [
       "':r4f0010000000'"
      ]
     },
     "execution_count": 36,
     "metadata": {},
     "output_type": "execute_result"
    }
   ],
   "source": [
    "sg.send(\"r4f\", return_line=True)"
   ]
  },
  {
   "cell_type": "code",
   "execution_count": 37,
   "metadata": {},
   "outputs": [
    {
     "data": {
      "text/plain": [
       "':r9b0'"
      ]
     },
     "execution_count": 37,
     "metadata": {},
     "output_type": "execute_result"
    }
   ],
   "source": [
    "sg.send(\"r9b\", return_line=True)"
   ]
  },
  {
   "cell_type": "code",
   "execution_count": 38,
   "metadata": {},
   "outputs": [
    {
     "data": {
      "text/plain": [
       "':r0m'"
      ]
     },
     "execution_count": 38,
     "metadata": {},
     "output_type": "execute_result"
    }
   ],
   "source": [
    "sg.send(\"r1m\", return_line=True)"
   ]
  },
  {
   "cell_type": "code",
   "execution_count": null,
   "metadata": {
    "collapsed": true
   },
   "outputs": [],
   "source": []
  }
 ],
 "metadata": {
  "kernelspec": {
   "display_name": "Python 3",
   "language": "python",
   "name": "python3"
  },
  "language_info": {
   "codemirror_mode": {
    "name": "ipython",
    "version": 3
   },
   "file_extension": ".py",
   "mimetype": "text/x-python",
   "name": "python",
   "nbconvert_exporter": "python",
   "pygments_lexer": "ipython3",
   "version": "3.8.0"
  }
 },
 "nbformat": 4,
 "nbformat_minor": 2
}
