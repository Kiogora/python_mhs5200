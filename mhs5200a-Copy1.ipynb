{
 "cells": [
  {
   "cell_type": "code",
   "execution_count": null,
   "metadata": {
    "collapsed": true
   },
   "outputs": [],
   "source": [
    "import serial"
   ]
  },
  {
   "cell_type": "code",
   "execution_count": null,
   "metadata": {
    "collapsed": true
   },
   "outputs": [],
   "source": [
    "cmd_map = dict()\n",
    "cmd_map[\"frequency\"]=\"f\"\n",
    "cmd_map[\"wave\"]=\"w\"\n",
    "cmd_map[\"duty_cycle\"]=\"d\"\n",
    "cmd_map[\"offset\"]=\"o\"\n",
    "cmd_map[\"phase\"]=\"p\"\n",
    "cmd_map[\"atten\"]=\"y\"\n",
    "cmd_map[\"amplitude\"]=\"a\"\n",
    "cmd_map[\"on\"]=\"b\""
   ]
  },
  {
   "cell_type": "code",
   "execution_count": 3,
   "metadata": {},
   "outputs": [],
   "source": [
    "import logging"
   ]
  },
  {
   "cell_type": "code",
   "execution_count": 4,
   "metadata": {},
   "outputs": [],
   "source": [
    "logger=logging.Logger(__name__)\n",
    "logger.setLevel(logging.DEBUG)\n",
    "info=logger.info\n",
    "debug=logger.debug"
   ]
  },
  {
   "cell_type": "code",
   "execution_count": 5,
   "metadata": {},
   "outputs": [],
   "source": [
    "class Channel(object):\n",
    "    def __init__(self, dds, num):\n",
    "        self.dds = dds\n",
    "        self.num = num\n",
    "        \n",
    "        \n",
    "    def __str__(self):\n",
    "        return \"{}\".format(self.num)\n",
    "    \n",
    "    def __repr__(self):\n",
    "        return \"Channel<{}>\".format(self.num)\n",
    "        \n",
    "    @property\n",
    "    def frequency(self):\n",
    "        return self.dds.get(self, \"frequency\")"
   ]
  },
  {
   "cell_type": "code",
   "execution_count": 9,
   "metadata": {},
   "outputs": [],
   "source": [
    "class MHS5200A(object):\n",
    "    def __init__(self, port=\"/dev/ttyUSB2\"):\n",
    "        cfg=dict()\n",
    "        cfg[\"port\"]=port\n",
    "        cfg[\"baudrate\"]=57600\n",
    "        cfg[\"xonxoff\"]=False        \n",
    "        cfg[\"timeout\"]=0.5\n",
    "        cfg[\"rtscts\"]=True\n",
    "        cfg[\"dsrdtr\"]=False\n",
    "        self.cfg = cfg\n",
    "        self.serial = serial.Serial(**cfg)\n",
    "        self.channels = list()\n",
    "        self.channels.append(Channel(self, 1))\n",
    "        \n",
    "    def send(self, msg=\"\", return_line = False):\n",
    "        self.serial.flushInput()\n",
    "        self.serial.flushOutput()\n",
    "        cmd_str = \":{}\\r\\n\".format(msg)\n",
    "        self.serial.write(cmd_str.encode())\n",
    "        if return_line:\n",
    "            data = self.serial.readline()\n",
    "            data_clean = data.decode().strip()\n",
    "            return data_clean\n",
    "        \n",
    "    def _read(self, channel, prop):\n",
    "        cmd_str = \"r{}{}\".format(channel, cmd_map[prop])\n",
    "        print(cmd_str)\n",
    "        return self.send(cmd_str, return_line=True)\n",
    "    \n",
    "    def _set(self, channel, prop,value):\n",
    "        cmd_str = \"r{}{}{}\".format(channel, cmd_map[prop], value)\n",
    "        print(cmd_str)\n",
    "        return self.send(cmd_str, return_line=True)\n",
    "   \n",
    "    def init(self):\n",
    "        self.send(\":\")\n",
    "        self.send(\":r1c\")\n",
    "        self.send(\":r2c\")\n",
    "\n",
    "sg = MHS5200A()\n",
    "sg.init()\n",
    "s = sg.serial\n",
    "chan1 = sg.channels[0]"
   ]
  },
  {
   "cell_type": "code",
   "execution_count": 10,
   "metadata": {},
   "outputs": [
    {
     "data": {
      "text/plain": [
       "'ok'"
      ]
     },
     "execution_count": 10,
     "metadata": {},
     "output_type": "execute_result"
    }
   ],
   "source": [
    "sg.send(\":s1f0000000100\", return_line=True)"
   ]
  },
  {
   "cell_type": "code",
   "execution_count": 11,
   "metadata": {},
   "outputs": [
    {
     "data": {
      "text/plain": [
       "':r1f0000000100'"
      ]
     },
     "execution_count": 11,
     "metadata": {},
     "output_type": "execute_result"
    }
   ],
   "source": [
    "data = sg.send(\":r1f\", return_line=True)\n",
    "data"
   ]
  },
  {
   "cell_type": "code",
   "execution_count": 13,
   "metadata": {},
   "outputs": [
    {
     "name": "stdout",
     "output_type": "stream",
     "text": [
      "r1f\n"
     ]
    },
    {
     "data": {
      "text/plain": [
       "':r1f0000000100'"
      ]
     },
     "execution_count": 13,
     "metadata": {},
     "output_type": "execute_result"
    }
   ],
   "source": [
    "sg._read(1, 'frequency')"
   ]
  },
  {
   "cell_type": "code",
   "execution_count": 14,
   "metadata": {
    "collapsed": true
   },
   "outputs": [],
   "source": [
    "class Channel(object):\n",
    "    def __init__(self, dds, num):\n",
    "        self.dds = dds\n",
    "        self.num = num\n",
    "        \n",
    "        \n",
    "    def __str__(self):\n",
    "        return \"{}\".format(self.num)\n",
    "    \n",
    "    def __repr__(self):\n",
    "        return \"Channel<{}>\".format(self.num)\n",
    "        \n",
    "    @property\n",
    "    def frequency(self):\n",
    "        return self.dds.get(self, \"frequency\")"
   ]
  },
  {
   "cell_type": "code",
   "execution_count": 15,
   "metadata": {
    "collapsed": true
   },
   "outputs": [],
   "source": [
    "chan1 = Channel(sg, 1)"
   ]
  },
  {
   "cell_type": "code",
   "execution_count": 17,
   "metadata": {},
   "outputs": [
    {
     "data": {
      "text/plain": [
       "('offset', 'o')"
      ]
     },
     "execution_count": 17,
     "metadata": {},
     "output_type": "execute_result"
    }
   ],
   "source": [
    "for attribute, cmd in cmd_map.items():\n",
    "    break\n",
    "(attribute, cmd)"
   ]
  },
  {
   "cell_type": "code",
   "execution_count": 18,
   "metadata": {
    "collapsed": true
   },
   "outputs": [],
   "source": [
    "def getter_gen(parameter):\n",
    "    def getter_fcn(self):\n",
    "        value = self.dds._read(self, parameter)\n",
    "        return value    \n",
    "    return getter_fcn"
   ]
  },
  {
   "cell_type": "code",
   "execution_count": 22,
   "metadata": {
    "collapsed": true
   },
   "outputs": [],
   "source": [
    "setattr(Channel, \"_\"+attribute, property(getter_gen(attribute)))"
   ]
  },
  {
   "cell_type": "code",
   "execution_count": 23,
   "metadata": {},
   "outputs": [
    {
     "name": "stdout",
     "output_type": "stream",
     "text": [
      "r1o\n"
     ]
    },
    {
     "data": {
      "text/plain": [
       "':r1o120'"
      ]
     },
     "execution_count": 23,
     "metadata": {},
     "output_type": "execute_result"
    }
   ],
   "source": [
    "chan1._offset"
   ]
  },
  {
   "cell_type": "code",
   "execution_count": null,
   "metadata": {
    "collapsed": true
   },
   "outputs": [],
   "source": []
  }
 ],
 "metadata": {
  "kernelspec": {
   "display_name": "Python 3",
   "language": "python",
   "name": "python3"
  },
  "language_info": {
   "codemirror_mode": {
    "name": "ipython",
    "version": 3
   },
   "file_extension": ".py",
   "mimetype": "text/x-python",
   "name": "python",
   "nbconvert_exporter": "python",
   "pygments_lexer": "ipython3",
   "version": "3.4.2"
  }
 },
 "nbformat": 4,
 "nbformat_minor": 2
}
