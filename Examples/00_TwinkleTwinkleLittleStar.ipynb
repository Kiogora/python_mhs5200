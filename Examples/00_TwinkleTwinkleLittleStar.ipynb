{
 "cells": [
  {
   "cell_type": "code",
   "execution_count": 3,
   "metadata": {},
   "outputs": [],
   "source": [
    "inst = mhs5200.MHS5200(\"/dev/ttyUSB0\")"
   ]
  },
  {
   "cell_type": "code",
   "execution_count": 4,
   "metadata": {},
   "outputs": [
    {
     "data": {
      "text/plain": [
       "<mhs5200.mhs5200.MHS5200 at 0x7f3b2c121d00>"
      ]
     },
     "execution_count": 4,
     "metadata": {},
     "output_type": "execute_result"
    }
   ],
   "source": [
    "inst"
   ]
  },
  {
   "cell_type": "code",
   "execution_count": 5,
   "metadata": {},
   "outputs": [
    {
     "data": {
      "text/plain": [
       "[Channel<1, 20.0V@1740.0Hz>, Channel<2, 20.0V@190.0Hz>]"
      ]
     },
     "execution_count": 5,
     "metadata": {},
     "output_type": "execute_result"
    }
   ],
   "source": [
    "inst.channels"
   ]
  },
  {
   "cell_type": "code",
   "execution_count": 6,
   "metadata": {},
   "outputs": [
    {
     "data": {
      "text/plain": [
       "Channel<1, 20.0V@1740.0Hz>"
      ]
     },
     "execution_count": 6,
     "metadata": {},
     "output_type": "execute_result"
    }
   ],
   "source": [
    "inst.chan1"
   ]
  },
  {
   "cell_type": "code",
   "execution_count": 7,
   "metadata": {},
   "outputs": [
    {
     "data": {
      "text/plain": [
       "Channel<2, 20.0V@190.0Hz>"
      ]
     },
     "execution_count": 7,
     "metadata": {},
     "output_type": "execute_result"
    }
   ],
   "source": [
    "inst.chan2"
   ]
  },
  {
   "cell_type": "code",
   "execution_count": 8,
   "metadata": {},
   "outputs": [],
   "source": [
    "chan1 = inst.chan1"
   ]
  },
  {
   "cell_type": "code",
   "execution_count": 9,
   "metadata": {},
   "outputs": [
    {
     "data": {
      "text/plain": [
       "{'port': '/dev/ttyUSB0',\n",
       " 'baudrate': 57600,\n",
       " 'xonxoff': False,\n",
       " 'rtscts': False,\n",
       " 'dsrdtr': False,\n",
       " 'timeout': 0.5,\n",
       " 'write_timeout': 0.5}"
      ]
     },
     "execution_count": 9,
     "metadata": {},
     "output_type": "execute_result"
    }
   ],
   "source": [
    "inst.cfg"
   ]
  },
  {
   "cell_type": "code",
   "execution_count": 10,
   "metadata": {},
   "outputs": [
    {
     "ename": "NameError",
     "evalue": "name 'chan' is not defined",
     "output_type": "error",
     "traceback": [
      "\u001b[0;31m---------------------------------------------------------------------------\u001b[0m",
      "\u001b[0;31mNameError\u001b[0m                                 Traceback (most recent call last)",
      "\u001b[0;32m<ipython-input-10-56a94d033df2>\u001b[0m in \u001b[0;36m<module>\u001b[0;34m\u001b[0m\n\u001b[0;32m----> 1\u001b[0;31m \u001b[0mchan\u001b[0m\u001b[0;34m.\u001b[0m\u001b[0mwave\u001b[0m\u001b[0;34m=\u001b[0m\u001b[0;36m1\u001b[0m\u001b[0;34m\u001b[0m\u001b[0;34m\u001b[0m\u001b[0m\n\u001b[0m",
      "\u001b[0;31mNameError\u001b[0m: name 'chan' is not defined"
     ]
    }
   ],
   "source": [
    "chan.wave=1"
   ]
  },
  {
   "cell_type": "code",
   "execution_count": 11,
   "metadata": {},
   "outputs": [],
   "source": [
    "for chan in inst.channels:\n",
    "    chan.amplitude=20\n",
    "    chan.frequency=0.5\n",
    "    chan.offset=0\n",
    "    chan.wave=1"
   ]
  },
  {
   "cell_type": "code",
   "execution_count": 19,
   "metadata": {},
   "outputs": [],
   "source": [
    "def get_freq(n=-21.0):\n",
    "    # What are the frequencies of music notes?\n",
    "    #     https://www.intmath.com/trigonometric-graphs/music.php\n",
    "    return 440.*2.**(n/12.0)"
   ]
  },
  {
   "cell_type": "code",
   "execution_count": 20,
   "metadata": {},
   "outputs": [
    {
     "data": {
      "text/plain": [
       "130.8127826502993"
      ]
     },
     "execution_count": 20,
     "metadata": {},
     "output_type": "execute_result"
    }
   ],
   "source": [
    "get_freq()"
   ]
  },
  {
   "cell_type": "code",
   "execution_count": 21,
   "metadata": {},
   "outputs": [
    {
     "data": {
      "text/plain": [
       "440.0"
      ]
     },
     "execution_count": 21,
     "metadata": {},
     "output_type": "execute_result"
    }
   ],
   "source": [
    "get_freq(0)"
   ]
  },
  {
   "cell_type": "code",
   "execution_count": 22,
   "metadata": {},
   "outputs": [
    {
     "data": {
      "text/plain": [
       "220.0"
      ]
     },
     "execution_count": 22,
     "metadata": {},
     "output_type": "execute_result"
    }
   ],
   "source": [
    "get_freq(-12)"
   ]
  },
  {
   "cell_type": "code",
   "execution_count": 23,
   "metadata": {},
   "outputs": [
    {
     "data": {
      "text/plain": [
       "880.0"
      ]
     },
     "execution_count": 23,
     "metadata": {},
     "output_type": "execute_result"
    }
   ],
   "source": [
    "get_freq(12)"
   ]
  },
  {
   "cell_type": "code",
   "execution_count": 24,
   "metadata": {},
   "outputs": [
    {
     "data": {
      "text/plain": [
       "261.6255653005986"
      ]
     },
     "execution_count": 24,
     "metadata": {},
     "output_type": "execute_result"
    }
   ],
   "source": [
    "get_freq(-9)"
   ]
  },
  {
   "cell_type": "code",
   "execution_count": 25,
   "metadata": {},
   "outputs": [
    {
     "data": {
      "text/plain": [
       "493.8833012561241"
      ]
     },
     "execution_count": 25,
     "metadata": {},
     "output_type": "execute_result"
    }
   ],
   "source": [
    "get_freq(2)"
   ]
  },
  {
   "cell_type": "code",
   "execution_count": 26,
   "metadata": {},
   "outputs": [],
   "source": [
    "for chan in inst.channels:\n",
    "    chan.amplitude=5\n",
    "    chan.frequency=get_freq(0)\n",
    "    chan.offset=0\n",
    "    chan.wave=0"
   ]
  },
  {
   "cell_type": "code",
   "execution_count": 27,
   "metadata": {},
   "outputs": [],
   "source": [
    "import time"
   ]
  },
  {
   "cell_type": "code",
   "execution_count": 28,
   "metadata": {},
   "outputs": [
    {
     "data": {
      "text/plain": [
       "261.6255653005986"
      ]
     },
     "execution_count": 28,
     "metadata": {},
     "output_type": "execute_result"
    }
   ],
   "source": [
    "# C\n",
    "get_freq(-9)"
   ]
  },
  {
   "cell_type": "code",
   "execution_count": 29,
   "metadata": {},
   "outputs": [
    {
     "data": {
      "text/plain": [
       "493.8833012561241"
      ]
     },
     "execution_count": 29,
     "metadata": {},
     "output_type": "execute_result"
    }
   ],
   "source": [
    "# B\n",
    "get_freq(2)"
   ]
  },
  {
   "cell_type": "code",
   "execution_count": 30,
   "metadata": {},
   "outputs": [],
   "source": [
    "# Do a scale.\n",
    "for n in range(-9, 3):\n",
    "    for chan in inst.channels:\n",
    "        chan.amplitude=5\n",
    "        chan.frequency=get_freq(n)\n",
    "        chan.offset=0\n",
    "        chan.wave=0\n",
    "    time.sleep(0.5)"
   ]
  },
  {
   "cell_type": "code",
   "execution_count": 31,
   "metadata": {},
   "outputs": [],
   "source": [
    "notes = [\"C\", \"C#\", \"D\", \"D#\", \"E\", \"F\", \"F#\", \"G\", \"G#\", \"A\", \"A#\", \"B\"]"
   ]
  },
  {
   "cell_type": "code",
   "execution_count": 32,
   "metadata": {},
   "outputs": [],
   "source": [
    "def get_note_frequency(note, octave=0):\n",
    "    n = notes.index(note)-9.0-octave*12.0\n",
    "    return get_freq(n)"
   ]
  },
  {
   "cell_type": "code",
   "execution_count": 33,
   "metadata": {},
   "outputs": [
    {
     "data": {
      "text/plain": [
       "261.6255653005986"
      ]
     },
     "execution_count": 33,
     "metadata": {},
     "output_type": "execute_result"
    }
   ],
   "source": [
    "get_note_frequency(\"C\")"
   ]
  },
  {
   "cell_type": "code",
   "execution_count": 34,
   "metadata": {},
   "outputs": [
    {
     "name": "stdout",
     "output_type": "stream",
     "text": [
      "note: C\n",
      "note: C#\n",
      "note: D\n",
      "note: D#\n",
      "note: E\n",
      "note: F\n",
      "note: F#\n",
      "note: G\n",
      "note: G#\n",
      "note: A\n",
      "note: A#\n",
      "note: B\n"
     ]
    }
   ],
   "source": [
    "for note in notes:\n",
    "    chan = inst.channels[1]\n",
    "    chan.amplitude=5\n",
    "    print(f\"note: {note}\")\n",
    "    chan.frequency=get_note_frequency(note)\n",
    "    chan.offset=0\n",
    "    chan.wave=0\n",
    "    time.sleep(0.5)"
   ]
  },
  {
   "cell_type": "code",
   "execution_count": 35,
   "metadata": {},
   "outputs": [
    {
     "name": "stdout",
     "output_type": "stream",
     "text": [
      "note: C\n",
      "note: C\n",
      "note: G\n",
      "note: G\n",
      "note: A\n",
      "note: A\n",
      "note: G\n",
      "note: F\n",
      "note: F\n",
      "note: E\n",
      "note: E\n",
      "note: D\n",
      "note: D\n",
      "note: C\n",
      "note: G\n",
      "note: G\n",
      "note: F\n",
      "note: F\n",
      "note: E\n",
      "note: E\n",
      "note: D\n",
      "note: G\n",
      "note: G\n",
      "note: F\n",
      "note: F\n",
      "note: E\n",
      "note: E\n",
      "note: D\n",
      "note: C\n",
      "note: C\n",
      "note: G\n",
      "note: G\n",
      "note: A\n",
      "note: A\n",
      "note: G\n",
      "note: F\n",
      "note: F\n",
      "note: E\n",
      "note: E\n",
      "note: D\n",
      "note: D\n",
      "note: C\n"
     ]
    }
   ],
   "source": [
    "song = \"CCGGAAGFFEEDDCGGFFEEDGGFFEEDCCGGAAGFFEEDDC\"\n",
    "inst.on()\n",
    "for note in song:\n",
    "    chan = inst.channels[1]\n",
    "    chan.amplitude=0\n",
    "    print(f\"note: {note}\")\n",
    "    chan.frequency=get_note_frequency(note)\n",
    "    chan.amplitude=20\n",
    "    chan.offset=0\n",
    "    chan.wave=0\n",
    "    time.sleep(0.1)\n",
    "inst.off()"
   ]
  },
  {
   "cell_type": "code",
   "execution_count": 93,
   "metadata": {},
   "outputs": [
    {
     "name": "stdout",
     "output_type": "stream",
     "text": [
      "note: C\n",
      "note: C\n",
      "note: G\n",
      "note: G\n",
      "note: A\n",
      "note: A\n",
      "note: G\n",
      "note: F\n",
      "note: F\n",
      "note: E\n",
      "note: E\n",
      "note: D\n",
      "note: D\n",
      "note: C\n",
      "note: G\n",
      "note: G\n",
      "note: F\n",
      "note: F\n",
      "note: E\n",
      "note: E\n",
      "note: D\n",
      "note: G\n",
      "note: G\n",
      "note: F\n",
      "note: F\n",
      "note: E\n",
      "note: E\n",
      "note: D\n",
      "note: C\n",
      "note: C\n",
      "note: G\n",
      "note: G\n",
      "note: A\n",
      "note: A\n",
      "note: G\n",
      "note: F\n",
      "note: F\n",
      "note: E\n",
      "note: E\n",
      "note: D\n",
      "note: D\n",
      "note: C\n"
     ]
    }
   ],
   "source": [
    "song = \"CCGGAAGFFEEDDCGGFFEEDGGFFEEDCCGGAAGFFEEDDC\"\n",
    "inst.on()\n",
    "for note in song:\n",
    "    chan = inst.channels[1]\n",
    "    chan.amplitude=0\n",
    "    print(f\"note: {note}\")\n",
    "    chan.frequency=get_note_frequency(note, -1)\n",
    "    chan.amplitude=5\n",
    "    chan.offset=0\n",
    "    chan.wave=0\n",
    "    time.sleep(0.1)\n",
    "inst.off()"
   ]
  },
  {
   "cell_type": "code",
   "execution_count": 94,
   "metadata": {},
   "outputs": [
    {
     "name": "stdout",
     "output_type": "stream",
     "text": [
      "note: C\n",
      "note: C\n",
      "note: G\n",
      "note: G\n",
      "note: A\n",
      "note: A\n",
      "note: G\n",
      "note: F\n",
      "note: F\n",
      "note: E\n",
      "note: E\n",
      "note: D\n",
      "note: D\n",
      "note: C\n",
      "note: G\n",
      "note: G\n",
      "note: F\n",
      "note: F\n",
      "note: E\n",
      "note: E\n",
      "note: D\n",
      "note: G\n",
      "note: G\n",
      "note: F\n",
      "note: F\n",
      "note: E\n",
      "note: E\n",
      "note: D\n",
      "note: C\n",
      "note: C\n",
      "note: G\n",
      "note: G\n",
      "note: A\n",
      "note: A\n",
      "note: G\n",
      "note: F\n",
      "note: F\n",
      "note: E\n",
      "note: E\n",
      "note: D\n",
      "note: D\n",
      "note: C\n"
     ]
    }
   ],
   "source": [
    "song = \"CCGGAAGFFEEDDCGGFFEEDGGFFEEDCCGGAAGFFEEDDC\"\n",
    "inst.on()\n",
    "for note in song:\n",
    "    chan = inst.channels[1]\n",
    "    chan.amplitude=0\n",
    "    print(f\"note: {note}\")\n",
    "    chan.frequency=get_note_frequency(note, 1)\n",
    "    chan.amplitude=5\n",
    "    chan.offset=0\n",
    "    chan.wave=0\n",
    "    time.sleep(0.1)\n",
    "inst.off()"
   ]
  },
  {
   "cell_type": "code",
   "execution_count": 60,
   "metadata": {},
   "outputs": [],
   "source": [
    "class Foo():\n",
    "    def __init__(self):\n",
    "        self.foo = \"A\""
   ]
  },
  {
   "cell_type": "code",
   "execution_count": 61,
   "metadata": {},
   "outputs": [],
   "source": [
    "f = Foo()"
   ]
  },
  {
   "cell_type": "code",
   "execution_count": 63,
   "metadata": {},
   "outputs": [
    {
     "ename": "AttributeError",
     "evalue": "__enter__",
     "output_type": "error",
     "traceback": [
      "\u001b[0;31m---------------------------------------------------------------------------\u001b[0m",
      "\u001b[0;31mAttributeError\u001b[0m                            Traceback (most recent call last)",
      "\u001b[0;32m<ipython-input-63-2216d7235c2a>\u001b[0m in \u001b[0;36m<module>\u001b[0;34m\u001b[0m\n\u001b[0;32m----> 1\u001b[0;31m \u001b[0;32mwith\u001b[0m \u001b[0mf\u001b[0m\u001b[0;34m.\u001b[0m\u001b[0mfoo\u001b[0m\u001b[0;34m==\u001b[0m\u001b[0;36m2\u001b[0m\u001b[0;34m:\u001b[0m\u001b[0;34m\u001b[0m\u001b[0;34m\u001b[0m\u001b[0m\n\u001b[0m\u001b[1;32m      2\u001b[0m     \u001b[0mprint\u001b[0m\u001b[0;34m(\u001b[0m\u001b[0mf\u001b[0m\u001b[0;34m.\u001b[0m\u001b[0mfoo\u001b[0m\u001b[0;34m)\u001b[0m\u001b[0;34m\u001b[0m\u001b[0;34m\u001b[0m\u001b[0m\n",
      "\u001b[0;31mAttributeError\u001b[0m: __enter__"
     ]
    }
   ],
   "source": [
    "with f.foo==2:\n",
    "    print(f.foo)"
   ]
  },
  {
   "cell_type": "code",
   "execution_count": 36,
   "metadata": {},
   "outputs": [
    {
     "name": "stdout",
     "output_type": "stream",
     "text": [
      "note: C\n",
      "note: C\n",
      "note: G\n",
      "note: G\n",
      "note: A\n",
      "note: A\n",
      "note: G\n",
      "note: F\n",
      "note: F\n",
      "note: E\n",
      "note: E\n",
      "note: D\n",
      "note: D\n",
      "note: C\n",
      "note: G\n",
      "note: G\n",
      "note: F\n",
      "note: F\n",
      "note: E\n",
      "note: E\n",
      "note: D\n",
      "note: G\n",
      "note: G\n",
      "note: F\n",
      "note: F\n",
      "note: E\n",
      "note: E\n",
      "note: D\n",
      "note: C\n",
      "note: C\n",
      "note: G\n",
      "note: G\n",
      "note: A\n",
      "note: A\n",
      "note: G\n",
      "note: F\n",
      "note: F\n",
      "note: E\n",
      "note: E\n",
      "note: D\n",
      "note: D\n",
      "note: C\n"
     ]
    }
   ],
   "source": [
    "song = \"CCGGAAGFFEEDDCGGFFEEDGGFFEEDCCGGAAGFFEEDDC\"\n",
    "inst.on()\n",
    "for note in song:\n",
    "    chan = inst.channels[1]\n",
    "    chan.amplitude=0\n",
    "    print(f\"note: {note}\")\n",
    "    chan.frequency=get_note_frequency(note, 0)\n",
    "    chan.amplitude=5\n",
    "    chan.offset=0\n",
    "    chan.wave=0\n",
    "    time.sleep(0.2)\n",
    "inst.off()"
   ]
  },
  {
   "cell_type": "code",
   "execution_count": 37,
   "metadata": {},
   "outputs": [],
   "source": [
    "import re"
   ]
  },
  {
   "cell_type": "code",
   "execution_count": 40,
   "metadata": {},
   "outputs": [],
   "source": [
    "song_re = re.compile(\"([A-G]?#?)\")"
   ]
  },
  {
   "cell_type": "code",
   "execution_count": 41,
   "metadata": {},
   "outputs": [],
   "source": [
    "song = \"CCG#GA#AGFFE#EDDCGGFFEEDGGFFEEDCCGGAAGFFEEDDC\""
   ]
  },
  {
   "cell_type": "code",
   "execution_count": 49,
   "metadata": {},
   "outputs": [
    {
     "data": {
      "text/plain": [
       "''"
      ]
     },
     "execution_count": 49,
     "metadata": {},
     "output_type": "execute_result"
    }
   ],
   "source": [
    "note."
   ]
  },
  {
   "cell_type": "code",
   "execution_count": 50,
   "metadata": {
    "scrolled": true
   },
   "outputs": [
    {
     "name": "stdout",
     "output_type": "stream",
     "text": [
      "C\n",
      "C\n",
      "G#\n",
      "G\n",
      "A#\n",
      "A\n",
      "G\n",
      "F\n",
      "F\n",
      "E#\n",
      "E\n",
      "D\n",
      "D\n",
      "C\n",
      "G\n",
      "G\n",
      "F\n",
      "F\n",
      "E\n",
      "E\n",
      "D\n",
      "G\n",
      "G\n",
      "F\n",
      "F\n",
      "E\n",
      "E\n",
      "D\n",
      "C\n",
      "C\n",
      "G\n",
      "G\n",
      "A\n",
      "A\n",
      "G\n",
      "F\n",
      "F\n",
      "E\n",
      "E\n",
      "D\n",
      "D\n",
      "C\n",
      "\n"
     ]
    }
   ],
   "source": [
    "for note in song_re.findall(song):\n"
   ]
  },
  {
   "cell_type": "code",
   "execution_count": null,
   "metadata": {},
   "outputs": [],
   "source": []
  },
  {
   "cell_type": "code",
   "execution_count": 57,
   "metadata": {},
   "outputs": [],
   "source": [
    "def play_song(inst, song):\n",
    "    inst.on()\n",
    "    for note in song:\n",
    "        chan = inst.channels[1]\n",
    "        chan.amplitude=0\n",
    "        print(f\"note: {note}\")\n",
    "        chan.frequency=get_note_frequency(note, 0)\n",
    "        chan.amplitude=20.0\n",
    "        chan.offset=0\n",
    "        chan.wave=0\n",
    "        time.sleep(0.2)\n",
    "    inst.off()"
   ]
  },
  {
   "cell_type": "code",
   "execution_count": 58,
   "metadata": {},
   "outputs": [],
   "source": [
    "baby_shark = \"CDFFFFFFFFCDFFFFFFFFCDFFFFFFFFFFE\""
   ]
  },
  {
   "cell_type": "code",
   "execution_count": 59,
   "metadata": {},
   "outputs": [
    {
     "name": "stdout",
     "output_type": "stream",
     "text": [
      "note: C\n",
      "note: D\n",
      "note: F\n",
      "note: F\n",
      "note: F\n",
      "note: F\n",
      "note: F\n",
      "note: F\n",
      "note: F\n",
      "note: F\n",
      "note: C\n",
      "note: D\n",
      "note: F\n",
      "note: F\n",
      "note: F\n",
      "note: F\n",
      "note: F\n",
      "note: F\n",
      "note: F\n",
      "note: F\n",
      "note: C\n",
      "note: D\n",
      "note: F\n",
      "note: F\n",
      "note: F\n",
      "note: F\n",
      "note: F\n",
      "note: F\n",
      "note: F\n",
      "note: F\n",
      "note: F\n",
      "note: F\n",
      "note: E\n"
     ]
    }
   ],
   "source": [
    "play_song(inst=inst, song=baby_shark)"
   ]
  },
  {
   "cell_type": "code",
   "execution_count": null,
   "metadata": {},
   "outputs": [],
   "source": []
  }
 ],
 "metadata": {
  "kernelspec": {
   "display_name": "Python 3",
   "language": "python",
   "name": "python3"
  },
  "language_info": {
   "codemirror_mode": {
    "name": "ipython",
    "version": 3
   },
   "file_extension": ".py",
   "mimetype": "text/x-python",
   "name": "python",
   "nbconvert_exporter": "python",
   "pygments_lexer": "ipython3",
   "version": "3.8.0"
  }
 },
 "nbformat": 4,
 "nbformat_minor": 4
}
