{
 "cells": [
  {
   "cell_type": "markdown",
   "metadata": {},
   "source": [
    "# Speaker Tests\n",
    "\n",
    "- 8Ohm, 2W toy speaker connected to channel 2 with BNC test leads."
   ]
  },
  {
   "cell_type": "code",
   "execution_count": 2,
   "metadata": {},
   "outputs": [],
   "source": [
    "import mhs5200"
   ]
  },
  {
   "cell_type": "code",
   "execution_count": 25,
   "metadata": {},
   "outputs": [],
   "source": [
    "from mhs5200.enums import SINE, SQUARE, UP, DOWN, TRI\n",
    "# sine, square, ramp up, ramp down, triangle."
   ]
  },
  {
   "cell_type": "code",
   "execution_count": 26,
   "metadata": {},
   "outputs": [],
   "source": [
    "import time"
   ]
  },
  {
   "cell_type": "code",
   "execution_count": 27,
   "metadata": {},
   "outputs": [],
   "source": [
    "signal_gen = mhs5200.MHS5200(port=\"/dev/ttyUSB0\")\n",
    "signal_gen.on()\n",
    "channel = signal_gen.chan2"
   ]
  },
  {
   "cell_type": "markdown",
   "metadata": {},
   "source": [
    "1 Hz square wave."
   ]
  },
  {
   "cell_type": "code",
   "execution_count": 28,
   "metadata": {},
   "outputs": [],
   "source": [
    "channel.amplitude=1\n",
    "channel.frequency=1\n",
    "channel.wave=SQUARE"
   ]
  },
  {
   "cell_type": "markdown",
   "metadata": {},
   "source": [
    "1 Hz square wave, louder."
   ]
  },
  {
   "cell_type": "code",
   "execution_count": 29,
   "metadata": {},
   "outputs": [],
   "source": [
    "channel.amplitude=2\n",
    "channel.frequency=1\n",
    "channel.wave=SQUARE"
   ]
  },
  {
   "cell_type": "code",
   "execution_count": 30,
   "metadata": {},
   "outputs": [],
   "source": [
    "channel.amplitude=0.5\n",
    "channel.frequency=2\n",
    "channel.wave=SQUARE"
   ]
  },
  {
   "cell_type": "markdown",
   "metadata": {},
   "source": [
    "This is only a test."
   ]
  },
  {
   "cell_type": "code",
   "execution_count": 31,
   "metadata": {},
   "outputs": [],
   "source": [
    "channel.amplitude=0.5\n",
    "channel.frequency=1000\n",
    "channel.wave=SINE"
   ]
  },
  {
   "cell_type": "markdown",
   "metadata": {},
   "source": [
    "What 1kHz sounds like in different wave forms."
   ]
  },
  {
   "cell_type": "code",
   "execution_count": null,
   "metadata": {},
   "outputs": [],
   "source": [
    "for wave in [SINE, SQUARE, UP, DOWN, TRI]:\n",
    "    channel.amplitude=0.5\n",
    "    channel.frequency=1000\n",
    "    channel.wave=wave\n",
    "    time.sleep(5)"
   ]
  }
 ],
 "metadata": {
  "kernelspec": {
   "display_name": "Python 3",
   "language": "python",
   "name": "python3"
  },
  "language_info": {
   "codemirror_mode": {
    "name": "ipython",
    "version": 3
   },
   "file_extension": ".py",
   "mimetype": "text/x-python",
   "name": "python",
   "nbconvert_exporter": "python",
   "pygments_lexer": "ipython3",
   "version": "3.8.0"
  }
 },
 "nbformat": 4,
 "nbformat_minor": 4
}
