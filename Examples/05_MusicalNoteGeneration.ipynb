{
 "cells": [
  {
   "cell_type": "markdown",
   "metadata": {},
   "source": [
    "# Generate Musical Notes\n",
    "\n",
    "It's like bad MIDI.\n",
    "\n",
    "- 8Ohm, 2W toy speaker."
   ]
  },
  {
   "cell_type": "code",
   "execution_count": 1,
   "metadata": {},
   "outputs": [],
   "source": [
    "def get_freq(n:int =-21) -> float:\n",
    "    \"\"\" Generate a frequency from an 'n'.\n",
    "    \n",
    "    Based on an equation: \n",
    "      https://www.intmath.com/trigonometric-graphs/music.php\n",
    "    \"\"\"\n",
    "    return 440.*2.**(n/12.0)\n",
    "\n",
    "notes = [\"C\", \"C#\", \"D\", \"D#\", \"E\", \"F\", \"F#\", \"G\", \"G#\", \"A\", \"A#\", \"B\"]\n",
    "def get_note_frequency(note: str, octave: int=0):\n",
    "    \"\"\"Get the frequency of a note:\n",
    "    \n",
    "    note: Musical note.\n",
    "    octave: Setup so octave=0, A = 440 Hz.   \n",
    "    \"\"\"\n",
    "    n = notes.index(note)-9.0-octave*12.0\n",
    "    return get_freq(n)"
   ]
  },
  {
   "cell_type": "code",
   "execution_count": 2,
   "metadata": {},
   "outputs": [
    {
     "data": {
      "text/plain": [
       "440.0"
      ]
     },
     "execution_count": 2,
     "metadata": {},
     "output_type": "execute_result"
    }
   ],
   "source": [
    "# A\n",
    "get_freq(0)"
   ]
  },
  {
   "cell_type": "code",
   "execution_count": 3,
   "metadata": {},
   "outputs": [],
   "source": [
    "import mhs5200\n",
    "inst = mhs5200.MHS5200(port=\"/dev/ttyUSB0\")"
   ]
  },
  {
   "cell_type": "code",
   "execution_count": 4,
   "metadata": {},
   "outputs": [
    {
     "data": {
      "text/plain": [
       "440.0"
      ]
     },
     "execution_count": 4,
     "metadata": {},
     "output_type": "execute_result"
    }
   ],
   "source": [
    "get_note_frequency(note=\"A\", octave=0)"
   ]
  },
  {
   "cell_type": "markdown",
   "metadata": {},
   "source": [
    "## Run Musical Scale\n",
    "\n",
    "Since A=0, go from -9 to 3 (C to B)"
   ]
  },
  {
   "cell_type": "code",
   "execution_count": 11,
   "metadata": {},
   "outputs": [],
   "source": [
    "import time"
   ]
  },
  {
   "cell_type": "code",
   "execution_count": 14,
   "metadata": {},
   "outputs": [
    {
     "data": {
      "text/plain": [
       "261.6255653005986"
      ]
     },
     "execution_count": 14,
     "metadata": {},
     "output_type": "execute_result"
    }
   ],
   "source": [
    "get_note_frequency(\"C\")"
   ]
  },
  {
   "cell_type": "code",
   "execution_count": 15,
   "metadata": {},
   "outputs": [],
   "source": [
    "inst.on()\n",
    "for n in range(-9, 3):\n",
    "    for chan in inst.channels:\n",
    "        chan.amplitude=20\n",
    "        chan.frequency=get_freq(n)\n",
    "        chan.offset=0\n",
    "        chan.wave=0\n",
    "    time.sleep(0.5)\n",
    "inst.off()"
   ]
  },
  {
   "cell_type": "code",
   "execution_count": 9,
   "metadata": {},
   "outputs": [
    {
     "name": "stdout",
     "output_type": "stream",
     "text": [
      "note: C\n",
      "note: C#\n",
      "note: D\n",
      "note: D#\n",
      "note: E\n",
      "note: F\n",
      "note: F#\n",
      "note: G\n",
      "note: G#\n",
      "note: A\n",
      "note: A#\n",
      "note: B\n"
     ]
    }
   ],
   "source": [
    "for note in notes:\n",
    "    chan = inst.channels[1]\n",
    "    chan.amplitude=5\n",
    "    print(f\"note: {note}\")\n",
    "    chan.frequency=get_note_frequency(note)\n",
    "    chan.offset=0\n",
    "    chan.wave=0\n",
    "    time.sleep(0.5)"
   ]
  },
  {
   "cell_type": "code",
   "execution_count": 16,
   "metadata": {},
   "outputs": [],
   "source": [
    "inst.off()"
   ]
  },
  {
   "cell_type": "markdown",
   "metadata": {},
   "source": [
    "# Twinkle Twinkle Little Star"
   ]
  },
  {
   "cell_type": "code",
   "execution_count": 18,
   "metadata": {},
   "outputs": [
    {
     "name": "stdout",
     "output_type": "stream",
     "text": [
      "note: C\n",
      "note: C\n",
      "note: G\n",
      "note: G\n",
      "note: A\n",
      "note: A\n",
      "note: G\n",
      "note: F\n",
      "note: F\n",
      "note: E\n",
      "note: E\n",
      "note: D\n",
      "note: D\n",
      "note: C\n",
      "note: G\n",
      "note: G\n",
      "note: F\n",
      "note: F\n",
      "note: E\n",
      "note: E\n",
      "note: D\n",
      "note: G\n",
      "note: G\n",
      "note: F\n",
      "note: F\n",
      "note: E\n",
      "note: E\n",
      "note: D\n",
      "note: C\n",
      "note: C\n",
      "note: G\n",
      "note: G\n",
      "note: A\n",
      "note: A\n",
      "note: G\n",
      "note: F\n",
      "note: F\n",
      "note: E\n",
      "note: E\n",
      "note: D\n",
      "note: D\n",
      "note: C\n"
     ]
    }
   ],
   "source": [
    "song = \"CCGGAAGFFEEDDCGGFFEEDGGFFEEDCCGGAAGFFEEDDC\"\n",
    "inst.on()\n",
    "for note in song:\n",
    "    chan = inst.channels[1]\n",
    "    chan.amplitude=0\n",
    "    time.sleep(0.05)\n",
    "    print(f\"note: {note}\")\n",
    "    chan.frequency=get_note_frequency(note, -1)\n",
    "    chan.amplitude=20\n",
    "    chan.offset=0\n",
    "    chan.wave=0\n",
    "    time.sleep(0.2)\n",
    "inst.off()"
   ]
  },
  {
   "cell_type": "code",
   "execution_count": 19,
   "metadata": {},
   "outputs": [],
   "source": [
    "import re \n",
    "song_re = re.compile(\"([A-G]?#?)\")"
   ]
  },
  {
   "cell_type": "code",
   "execution_count": 21,
   "metadata": {},
   "outputs": [],
   "source": [
    "def play_song(inst, song):\n",
    "    inst.on()\n",
    "    for note in song:\n",
    "        chan = inst.channels[1]\n",
    "        chan.amplitude=0\n",
    "        # Between beats\n",
    "        time.sleep(0.05)\n",
    "        chan.frequency=get_note_frequency(note, -1)\n",
    "        chan.amplitude=20\n",
    "        chan.offset=0\n",
    "        chan.wave=0\n",
    "        time.sleep(0.2)\n",
    "    inst.off()"
   ]
  },
  {
   "cell_type": "code",
   "execution_count": 22,
   "metadata": {},
   "outputs": [],
   "source": [
    "twinkle = \"CCGGAAGFFEEDDCGGFFEEDGGFFEEDCCGGAAGFFEEDDC\"\n",
    "baby_shark = \"CDFFFFFFFFCDFFFFFFFFCDFFFFFFFFFFE\""
   ]
  },
  {
   "cell_type": "code",
   "execution_count": 23,
   "metadata": {},
   "outputs": [],
   "source": [
    "for song in [twinkle, baby_shark]:\n",
    "    play_song(inst=inst, song=song)"
   ]
  }
 ],
 "metadata": {
  "kernelspec": {
   "display_name": "Python 3",
   "language": "python",
   "name": "python3"
  },
  "language_info": {
   "codemirror_mode": {
    "name": "ipython",
    "version": 3
   },
   "file_extension": ".py",
   "mimetype": "text/x-python",
   "name": "python",
   "nbconvert_exporter": "python",
   "pygments_lexer": "ipython3",
   "version": "3.8.0"
  }
 },
 "nbformat": 4,
 "nbformat_minor": 4
}
