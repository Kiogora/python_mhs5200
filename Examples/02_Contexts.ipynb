{
 "cells": [
  {
   "cell_type": "markdown",
   "metadata": {},
   "source": [
    "# Signal Gen Contexts\n",
    "\n",
    "Use the signal generator in a context."
   ]
  },
  {
   "cell_type": "code",
   "execution_count": 3,
   "metadata": {},
   "outputs": [],
   "source": [
    "import mhs5200\n",
    "import mhs5200.enums as WAVE"
   ]
  },
  {
   "cell_type": "code",
   "execution_count": 4,
   "metadata": {},
   "outputs": [],
   "source": [
    "with mhs5200.MHS5200(port=\"/dev/ttyUSB0\") as signal_generator:\n",
    "    for channel in signal_generator.channels:\n",
    "        channel.frequency = 1\n",
    "        channel.amplitude = 0\n",
    "        channel.offset    = 0\n",
    "        channel.wave = WAVE.SINE"
   ]
  }
 ],
 "metadata": {
  "kernelspec": {
   "display_name": "Python 3",
   "language": "python",
   "name": "python3"
  },
  "language_info": {
   "codemirror_mode": {
    "name": "ipython",
    "version": 3
   },
   "file_extension": ".py",
   "mimetype": "text/x-python",
   "name": "python",
   "nbconvert_exporter": "python",
   "pygments_lexer": "ipython3",
   "version": "3.8.0"
  }
 },
 "nbformat": 4,
 "nbformat_minor": 4
}
